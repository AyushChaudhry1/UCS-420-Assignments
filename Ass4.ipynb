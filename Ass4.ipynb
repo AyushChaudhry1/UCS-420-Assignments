{
 "cells": [
  {
   "cell_type": "markdown",
   "id": "215fe28f-8232-4eac-a93b-6553712c4ac4",
   "metadata": {},
   "source": [
    "# ASSIGNMENT 3\n",
    "<b>Question 1:</b> Write a program to create a NumPy 1D-array with 5 elements and perform basic \n",
    "operations."
   ]
  },
  {
   "cell_type": "code",
   "execution_count": 40,
   "id": "02d06ac9-b4f3-4e35-bc57-b9485a5e0c57",
   "metadata": {},
   "outputs": [
    {
     "name": "stdout",
     "output_type": "stream",
     "text": [
      "[3 4 5 6 7]\n",
      "[ 3  6  9 12 15]\n",
      "[0.5 1.  1.5 2.  2.5]\n"
     ]
    }
   ],
   "source": [
    "import numpy as np\n",
    "x=[1,2,3,4,5]\n",
    "arr=np.array(x)\n",
    "#1)-(a)\n",
    "arr_sum=arr+2\n",
    "print(arr_sum)\n",
    "#1)-(b)\n",
    "arr_multiply=arr*3\n",
    "print(arr_multiply)\n",
    "#1)-(c)\n",
    "arr_div=arr/2\n",
    "print(arr_div)"
   ]
  },
  {
   "cell_type": "markdown",
   "id": "c35ad51b-392b-47cb-afdb-678c69b4c9f6",
   "metadata": {},
   "source": [
    "<b>Question 2:</b> Questions on Basic NumPy Array."
   ]
  },
  {
   "cell_type": "code",
   "execution_count": 48,
   "id": "aa4deb94-a661-4ec7-89f8-ea8fb7c5b8a4",
   "metadata": {},
   "outputs": [
    {
     "name": "stdout",
     "output_type": "stream",
     "text": [
      "Most frequent value: 1, Indices: [0 5 7 8 9]\n"
     ]
    }
   ],
   "source": [
    "x = np.array([1,2,3,4,5,1,2,1,1,1])\n",
    "most_frequent = np.bincount(x).argmax()  \n",
    "indices = np.where(x == most_frequent)[0]  \n",
    "print(f\"Most frequent value: {most_frequent}, Indices: {indices}\")\n"
   ]
  },
  {
   "cell_type": "code",
   "execution_count": 50,
   "id": "29e2b373-138a-44cd-b234-64295ca9a1c2",
   "metadata": {},
   "outputs": [
    {
     "name": "stdout",
     "output_type": "stream",
     "text": [
      "Most frequent value: 1, Indices: [0 1 2]\n"
     ]
    }
   ],
   "source": [
    "y = np.array([1, 1, 1, 2, 3, 4, 2, 4, 3, 3])\n",
    "most_frequent = np.bincount(y).argmax()  \n",
    "indices = np.where(y == most_frequent)[0]  \n",
    "print(f\"Most frequent value: {most_frequent}, Indices: {indices}\")\n"
   ]
  },
  {
   "cell_type": "markdown",
   "id": "1a953f89-be0c-43c4-a37c-342997727274",
   "metadata": {},
   "source": [
    "<b>Question 3:</b> For the given 2-D array arr=np.array([10, 20, 30], [40, 50, 60], [70, 80, 90]), access \n",
    "elements using row and column indices as follows."
   ]
  },
  {
   "cell_type": "code",
   "execution_count": 31,
   "id": "cad964e5-48c4-4705-b0b3-bb11d60bf0fd",
   "metadata": {},
   "outputs": [
    {
     "name": "stdout",
     "output_type": "stream",
     "text": [
      "Element at (1st row, 2nd column): 20\n",
      "Element at (3rd row, 1st column): 70\n"
     ]
    }
   ],
   "source": [
    "#3)\n",
    "arr = np.array([[10, 20, 30], [40, 50, 60], [70, 80, 90]])\n",
    "# a) Accessing the element at the first row and second column\n",
    "element_1_2 = arr[0][1]\n",
    "print(\"Element at (1st row, 2nd column):\", element_1_2)\n",
    "# b) Accessing the element at the third row and first column\n",
    "element_3_1 = arr[2][0]\n",
    "print(\"Element at (3rd row, 1st column):\", element_3_1)\n"
   ]
  },
  {
   "cell_type": "markdown",
   "id": "dc529270-d8ed-41fd-9481-176563a0d16e",
   "metadata": {},
   "source": [
    "<b>Question 4:</b> Write program to create an 1-D NumPy array named <<Your Name>> with evenly \n",
    "spaced 25 numbers from 10 to 100 using linspace(). Print the dimensions of the array, \n",
    "shape, total elements, the data type of each element and total number of bytes consumed \n",
    "by the array. Find the transpose of this array using reshape() attribute. Can we do the same \n",
    "with T attribute? "
   ]
  },
  {
   "cell_type": "code",
   "execution_count": 35,
   "id": "88de55d1-2473-4bca-b881-717275541950",
   "metadata": {},
   "outputs": [
    {
     "name": "stdout",
     "output_type": "stream",
     "text": [
      "[ 10.    13.75  17.5   21.25  25.    28.75  32.5   36.25  40.    43.75\n",
      "  47.5   51.25  55.    58.75  62.5   66.25  70.    73.75  77.5   81.25\n",
      "  85.    88.75  92.5   96.25 100.  ]\n",
      "\n",
      "Dimensions: (25,)\n",
      "\n",
      "Total elements: 25\n",
      "\n",
      "Data Type of each element: float64\n",
      "\n",
      "Total Number of bytes consumed: 200\n",
      "\n",
      "Transpose:\n",
      " [ 10.    13.75  17.5   21.25  25.    28.75  32.5   36.25  40.    43.75\n",
      "  47.5   51.25  55.    58.75  62.5   66.25  70.    73.75  77.5   81.25\n",
      "  85.    88.75  92.5   96.25 100.  ]\n",
      "\n",
      "Yes,we can do the Transpose of this array using T attribute\n"
     ]
    }
   ],
   "source": [
    "#4)\n",
    "Ayush_C=np.linspace(10,100,25)\n",
    "print(Ayush_C)\n",
    "print(\"\\nDimensions:\",Ayush_C.shape)\n",
    "print(\"\\nTotal elements:\",Ayush_C.size)\n",
    "print(\"\\nData Type of each element:\",Ayush_C.dtype)\n",
    "print(\"\\nTotal Number of bytes consumed:\",Ayush_C.itemsize*Ayush_C.size)\n",
    "print(\"\\nTranspose:\\n\",Ayush_C.reshape(25))\n",
    "Ayush_C.T\n",
    "print(\"\\nYes,we can do the Transpose of this array using T attribute\")"
   ]
  },
  {
   "cell_type": "markdown",
   "id": "c921e48d-640a-44f2-a151-22c7609aa660",
   "metadata": {},
   "source": [
    "<b>Question 5:</b> Create a 2-D Array of three rows and four columns, named ucs420_<<your_name>> \n",
    "with following values – 10, 20, 30, 40, 50, 60, 70, 80, 90, 15, 20, 35. Compute the mean, \n",
    "median, max, min, unique elements. Reshape the array to four rows and three columns and \n",
    "name it as reshaped_ ucs420_<your_name>>. Resize the array to two rows and three \n",
    "columns and name it as resized_ ucs420_<<your_name>>."
   ]
  },
  {
   "cell_type": "code",
   "execution_count": 38,
   "id": "e3c1889f-22b0-43fa-86ea-4949148fde69",
   "metadata": {},
   "outputs": [
    {
     "name": "stdout",
     "output_type": "stream",
     "text": [
      "Mean: 43.333333333333336\n",
      "\n",
      "Median: 37.5\n",
      "\n",
      "Max: 90\n",
      "\n",
      "Min: 10\n",
      "\n",
      "Unique elements: [10 15 20 30 35 40 50 60 70 80 90]\n",
      "\n",
      " [[10 20 30]\n",
      " [40 50 60]\n",
      " [70 80 90]\n",
      " [15 20 35]]\n",
      "Resized array (2 rows*3 columns):\n",
      " [[10 20 30]\n",
      " [40 50 60]]\n"
     ]
    }
   ],
   "source": [
    "UCS420_Ayush=np.array([[10,20,30,40],[50,60,70,80],[90,15,20,35]])\n",
    "print(\"Mean:\",np.mean(UCS420_Ayush))\n",
    "print(\"\\nMedian:\",np.median(UCS420_Ayush))\n",
    "print(\"\\nMax:\",np.max(UCS420_Ayush))\n",
    "print(\"\\nMin:\",np.min(UCS420_Ayush))\n",
    "print(\"\\nUnique elements:\",np.unique(UCS420_Ayush))\n",
    "reshaped_UCS420_Ayush=UCS420_Ayush.reshape(4,3)\n",
    "print(\"\\n\",reshaped_UCS420_Ayush)\n",
    "resized_UCS420_Ayush = np.resize(UCS420_Ayush, (2, 3))\n",
    "print(\"Resized array (2 rows*3 columns):\\n\",resized_UCS420_Ayush)"
   ]
  }
 ],
 "metadata": {
  "kernelspec": {
   "display_name": "Python [conda env:base] *",
   "language": "python",
   "name": "conda-base-py"
  },
  "language_info": {
   "codemirror_mode": {
    "name": "ipython",
    "version": 3
   },
   "file_extension": ".py",
   "mimetype": "text/x-python",
   "name": "python",
   "nbconvert_exporter": "python",
   "pygments_lexer": "ipython3",
   "version": "3.12.7"
  }
 },
 "nbformat": 4,
 "nbformat_minor": 5
}
