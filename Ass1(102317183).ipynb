{
 "cells": [
  {
   "cell_type": "markdown",
   "id": "b93aa7b5-c1ca-4158-b742-cce3fa502b67",
   "metadata": {},
   "source": [
    "# ASSIGNMENT - 1\n",
    "<b>Assignment 1.1:</b> WAP to print your name 3 times."
   ]
  },
  {
   "cell_type": "code",
   "execution_count": 6,
   "id": "25375fa5-1d23-4881-ad9d-4cf2a87455b7",
   "metadata": {},
   "outputs": [
    {
     "name": "stdout",
     "output_type": "stream",
     "text": [
      "Ayush Chaudhry Ayush Chaudhry Ayush Chaudhry \n"
     ]
    }
   ],
   "source": [
    "print(3 * 'Ayush Chaudhry ')"
   ]
  },
  {
   "cell_type": "markdown",
   "id": "fe6740d9-e693-4c78-895e-dc9982bbbd66",
   "metadata": {},
   "source": [
    "<b>Assignment 2.1:</b> WAP to add 3 numbers and print the result.\n"
   ]
  },
  {
   "cell_type": "code",
   "execution_count": 11,
   "id": "9906316b-b075-4c85-aff2-c7f000f74b8c",
   "metadata": {},
   "outputs": [
    {
     "name": "stdout",
     "output_type": "stream",
     "text": [
      "The sum of above 3 numbers is : 45\n"
     ]
    }
   ],
   "source": [
    "x = 10\n",
    "y = 15\n",
    "z = 20\n",
    "w = x+y+z\n",
    "print(\"The sum of above 3 numbers is :\", w)"
   ]
  },
  {
   "cell_type": "markdown",
   "id": "128a7703-08b0-4042-a1d1-235be5704915",
   "metadata": {},
   "source": [
    "<b>Assignment 2.2:</b> WAP to concatinate 3 strings and print the result."
   ]
  },
  {
   "cell_type": "code",
   "execution_count": 14,
   "id": "b2ca0808-5b56-40f8-92d9-4d56692f21ec",
   "metadata": {},
   "outputs": [
    {
     "name": "stdout",
     "output_type": "stream",
     "text": [
      "This is my 1st assignment\n"
     ]
    }
   ],
   "source": [
    "x = 'This'\n",
    "y = 'is my'\n",
    "z = '1st assignment'\n",
    "w = x+\" \"+y+\" \"+z\n",
    "print(w)"
   ]
  },
  {
   "cell_type": "markdown",
   "id": "9f845cb5-b3c8-4e04-ad97-b7d7479a0277",
   "metadata": {},
   "source": [
    "<b>Assignment 4.1:</b> WAP to print tables of 7 and 9."
   ]
  },
  {
   "cell_type": "code",
   "execution_count": 17,
   "id": "dc47b9ed-2411-40dc-9d3b-e234cbb31300",
   "metadata": {},
   "outputs": [
    {
     "name": "stdout",
     "output_type": "stream",
     "text": [
      "7 * 1 = 7\n",
      "7 * 2 = 14\n",
      "7 * 3 = 21\n",
      "7 * 4 = 28\n",
      "7 * 5 = 35\n",
      "7 * 6 = 42\n",
      "7 * 7 = 49\n",
      "7 * 8 = 56\n",
      "7 * 9 = 63\n",
      "7 * 10 = 70\n"
     ]
    }
   ],
   "source": [
    "for i in range(1,11):\n",
    "    print(7,\"*\",i,\"=\", 7*i)"
   ]
  },
  {
   "cell_type": "code",
   "execution_count": 19,
   "id": "7aa81426-2094-4d7e-8080-57136ce24309",
   "metadata": {},
   "outputs": [
    {
     "name": "stdout",
     "output_type": "stream",
     "text": [
      "9 * 1 = 9\n",
      "9 * 2 = 18\n",
      "9 * 3 = 27\n",
      "9 * 4 = 36\n",
      "9 * 5 = 45\n",
      "9 * 6 = 54\n",
      "9 * 7 = 63\n",
      "9 * 8 = 72\n",
      "9 * 9 = 81\n",
      "9 * 10 = 90\n"
     ]
    }
   ],
   "source": [
    "for i in range(1,11):\n",
    "    print(9,\"*\",i,\"=\", 9*i)"
   ]
  },
  {
   "cell_type": "markdown",
   "id": "9ba8411a-cb49-441b-bb45-9e67684ae4d0",
   "metadata": {},
   "source": [
    "<b>Assignment 4.2:</b> Wap to print table of n, which is given by user."
   ]
  },
  {
   "cell_type": "code",
   "execution_count": 23,
   "id": "1bb48b21-67aa-424a-a29e-c6a3347f2ae2",
   "metadata": {},
   "outputs": [
    {
     "name": "stdin",
     "output_type": "stream",
     "text": [
      "Enter a number :  15\n"
     ]
    },
    {
     "name": "stdout",
     "output_type": "stream",
     "text": [
      "table of 15  is: \n",
      "15 * 1 = 15\n",
      "15 * 2 = 30\n",
      "15 * 3 = 45\n",
      "15 * 4 = 60\n",
      "15 * 5 = 75\n",
      "15 * 6 = 90\n",
      "15 * 7 = 105\n",
      "15 * 8 = 120\n",
      "15 * 9 = 135\n",
      "15 * 10 = 150\n"
     ]
    }
   ],
   "source": [
    "n=int(input(\"Enter a number : \"))\n",
    "print(\"table of\", n,\" is: \")\n",
    "for i in range(1,11):\n",
    "    print(n,\"*\",i,\"=\", n*i)"
   ]
  },
  {
   "cell_type": "markdown",
   "id": "5bf06a01-0c2f-4727-8c4a-32a79d4aee53",
   "metadata": {},
   "source": [
    "<b>Assignment 4.3:</b> WAP to add all numbers from 1 to n, where n is given by user."
   ]
  },
  {
   "cell_type": "code",
   "execution_count": 26,
   "id": "f7199f71-505b-476b-9938-55ff96ca2916",
   "metadata": {},
   "outputs": [
    {
     "name": "stdin",
     "output_type": "stream",
     "text": [
      "Enter the number :  20\n"
     ]
    },
    {
     "name": "stdout",
     "output_type": "stream",
     "text": [
      "The sum is:  210\n"
     ]
    }
   ],
   "source": [
    "n = int(input(\"Enter the number : \"))\n",
    "sum = 0\n",
    "for i in range(1, n+1):\n",
    "    sum = sum + i\n",
    "print(\"The sum is: \",sum)"
   ]
  },
  {
   "cell_type": "markdown",
   "id": "3c6d8503-eced-4c82-8e75-16c2e99f7e88",
   "metadata": {},
   "source": [
    "<b>Assignment 5.1:</b> WAP to find max among 3 numbers and take input from user."
   ]
  },
  {
   "cell_type": "code",
   "execution_count": 31,
   "id": "cd3deccc-6bd8-46e0-be7a-ed5c4c71d373",
   "metadata": {},
   "outputs": [
    {
     "name": "stdin",
     "output_type": "stream",
     "text": [
      "Enter 1st number:  13\n",
      "Enter 2nd number:  62\n",
      "Enter 3rd number:  37\n"
     ]
    },
    {
     "name": "stdout",
     "output_type": "stream",
     "text": [
      "Maximum number is:  62\n"
     ]
    }
   ],
   "source": [
    "x = int(input(\"Enter 1st number: \"))\n",
    "y = int(input(\"Enter 2nd number: \"))\n",
    "z = int(input(\"Enter 3rd number: \"))\n",
    "maximum = max(x,y,z)\n",
    "print(\"Maximum number is: \",maximum)"
   ]
  },
  {
   "cell_type": "markdown",
   "id": "e3b35012-0ff9-4f76-9fe3-7770388e3ed7",
   "metadata": {},
   "source": [
    "<b>Assignment 5.2:</b> WAP to add all number divisible by 7 and 9 from 1 to n, where n is given by user."
   ]
  },
  {
   "cell_type": "code",
   "execution_count": 36,
   "id": "8f9ced7b-f24f-4938-8d36-3159bd1dcda4",
   "metadata": {},
   "outputs": [
    {
     "name": "stdin",
     "output_type": "stream",
     "text": [
      "Enter the number:  100\n"
     ]
    },
    {
     "name": "stdout",
     "output_type": "stream",
     "text": [
      "Sum of numbers divisible by 7 and 9 are 63\n"
     ]
    }
   ],
   "source": [
    "n = int(input(\"Enter the number: \"))\n",
    "sum = 0\n",
    "for i in range(1,n+1):\n",
    "    if (i%7==0 and i%9==0):\n",
    "        sum=sum+i\n",
    "print(\"Sum of numbers divisible by 7 and 9 are\", sum)"
   ]
  },
  {
   "cell_type": "markdown",
   "id": "a35f3495-0da4-4ad7-af28-bb30d3726ae8",
   "metadata": {},
   "source": [
    "<b>Assignment 5.3:</b> WAP to add all prime numbers from 1 to n and n is given by the user."
   ]
  },
  {
   "cell_type": "code",
   "execution_count": 39,
   "id": "99b4f1a8-0171-4fa8-82d1-efa2dba47a95",
   "metadata": {},
   "outputs": [
    {
     "name": "stdin",
     "output_type": "stream",
     "text": [
      "Enter the number:  100\n"
     ]
    },
    {
     "name": "stdout",
     "output_type": "stream",
     "text": [
      "The sum of all prime numbers from 1 to 100 is: 1060\n"
     ]
    }
   ],
   "source": [
    "def check_prime(number):\n",
    "    if number<2:\n",
    "        return False\n",
    "    for i in range(2, number//2 + 1):\n",
    "        if number % i == 0:\n",
    "            return False\n",
    "    return True\n",
    "n = int(input(\"Enter the number: \"))\n",
    "sum = 0\n",
    "for i in range(1, n + 1):\n",
    "    if check_prime(i):\n",
    "        sum = sum + i\n",
    "print(\"The sum of all prime numbers from 1 to\", n , \"is:\",sum)"
   ]
  },
  {
   "cell_type": "markdown",
   "id": "429f0b0f-9147-48b4-b0b9-6c70a2813164",
   "metadata": {},
   "source": [
    "<b>Assignment 6.1:</b> WAP using function that add all odd numbers from 1 to n, n is given by the user."
   ]
  },
  {
   "cell_type": "code",
   "execution_count": 42,
   "id": "939d60ee-102f-4121-b08b-7863788cecca",
   "metadata": {},
   "outputs": [
    {
     "name": "stdin",
     "output_type": "stream",
     "text": [
      "Enter the number:  10\n"
     ]
    },
    {
     "name": "stdout",
     "output_type": "stream",
     "text": [
      "The sum is 25\n"
     ]
    }
   ],
   "source": [
    "def add_odd(n):\n",
    "    sum=0\n",
    "    for i in range(1,n+1):\n",
    "        if i%2!=0:\n",
    "            sum=sum+i\n",
    "    return sum       \n",
    "n = int(input(\"Enter the number: \"))\n",
    "print(\"The sum is\",add_odd(n))"
   ]
  },
  {
   "cell_type": "markdown",
   "id": "50445ead-65cb-47f6-a19b-98163e0bf30f",
   "metadata": {},
   "source": [
    "<b>Assignment 6.2:</b> WAP using function that add all prime numbers from 1 to n, n given by the user."
   ]
  },
  {
   "cell_type": "code",
   "execution_count": 48,
   "id": "513948f6-2870-4cd6-809d-2e627be5ca11",
   "metadata": {},
   "outputs": [
    {
     "name": "stdin",
     "output_type": "stream",
     "text": [
      "Enter the number:  30\n"
     ]
    },
    {
     "name": "stdout",
     "output_type": "stream",
     "text": [
      "The sum of all prime numbers from 1 to 30 is: 129\n"
     ]
    }
   ],
   "source": [
    "def check_prime(n):\n",
    "    if n<2:\n",
    "        return False\n",
    "    for i in range(2,n//2+1):\n",
    "        if n%i==0:\n",
    "            return False\n",
    "    return True\n",
    "def sum_prime(n):\n",
    "    sum=0\n",
    "    for i in range(1,n+1):\n",
    "        if check_prime(i):\n",
    "            sum= sum+i\n",
    "    return sum    \n",
    "n = int(input(\"Enter the number: \"))\n",
    "print(\"The sum of all prime numbers from 1 to\", n, \"is:\", sum_prime(n))"
   ]
  },
  {
   "cell_type": "code",
   "execution_count": null,
   "id": "6ec29466-34d2-43b3-a82d-a2c46c70abd1",
   "metadata": {},
   "outputs": [],
   "source": []
  }
 ],
 "metadata": {
  "kernelspec": {
   "display_name": "Python [conda env:base] *",
   "language": "python",
   "name": "conda-base-py"
  },
  "language_info": {
   "codemirror_mode": {
    "name": "ipython",
    "version": 3
   },
   "file_extension": ".py",
   "mimetype": "text/x-python",
   "name": "python",
   "nbconvert_exporter": "python",
   "pygments_lexer": "ipython3",
   "version": "3.12.7"
  }
 },
 "nbformat": 4,
 "nbformat_minor": 5
}
