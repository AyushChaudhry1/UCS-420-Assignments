{
 "cells": [
  {
   "cell_type": "markdown",
   "id": "51c93baf-fb1e-4f8d-b364-a744f00d2609",
   "metadata": {},
   "source": [
    "# ASSIGNMENT - 3\n",
    "\n",
    "<b>Question 1:</b> Create a dataset as follow in the table. \n",
    " "
   ]
  },
  {
   "cell_type": "code",
   "execution_count": 9,
   "id": "e58b6bbb-206c-481c-a368-e2538b7dbca5",
   "metadata": {
    "scrolled": true
   },
   "outputs": [
    {
     "name": "stdout",
     "output_type": "stream",
     "text": [
      "   Tid Refund Marital Status Taxable Income Cheat\n",
      "0    1    Yes         Single           125K    No\n",
      "1    2     No        Married           100K    No\n",
      "2    3     No         Single            70K    No\n",
      "3    4    Yes        Married           120K    No\n",
      "4    5     No       Divorced            95K   Yes\n",
      "5    6     No        Married            60K    No\n",
      "6    7    Yes       Divorced           220K    No\n",
      "7    8     No         Single            85K   Yes\n",
      "8    9     No        Married            75K    No\n",
      "9   10     No         Single            90K   Yes\n"
     ]
    }
   ],
   "source": [
    "import pandas as pd\n",
    "mydata = {'Tid':[1,2,3,4,5,6,7,8,9,10],\n",
    "          'Refund':[\"Yes\",\"No\",\"No\",\"Yes\",\"No\",\"No\",\"Yes\",\"No\",\"No\",\"No\"],\n",
    "          'Marital Status':[\"Single\",\"Married\",\"Single\",\"Married\",\"Divorced\",\"Married\",\"Divorced\",\"Single\",\"Married\",\"Single\"],\n",
    "          'Taxable Income':[\"125K\",\"100K\",\"70K\",\"120K\",\"95K\",\"60K\",\"220K\",\"85K\",\"75K\",\"90K\"],\n",
    "          'Cheat':[\"No\",\"No\",\"No\",\"No\",\"Yes\",\"No\",\"No\",\"Yes\",\"No\",\"Yes\"]\n",
    "         }\n",
    "myvar = pd.DataFrame(mydata)\n",
    "print(myvar)\n"
   ]
  },
  {
   "cell_type": "markdown",
   "id": "248193e2-dba7-422a-8512-2be46aef30e4",
   "metadata": {},
   "source": [
    "<b>Question 2:</b> From the above table that you have created, locate row 0, 4, 7 and 8 using DataFrame"
   ]
  },
  {
   "cell_type": "code",
   "execution_count": 13,
   "id": "1cd70170-5208-46b1-b118-be95326dcaac",
   "metadata": {},
   "outputs": [
    {
     "data": {
      "text/plain": [
       "Tid                      5\n",
       "Refund                  No\n",
       "Marital Status    Divorced\n",
       "Taxable Income         95K\n",
       "Cheat                  Yes\n",
       "Name: 4, dtype: object"
      ]
     },
     "execution_count": 13,
     "metadata": {},
     "output_type": "execute_result"
    }
   ],
   "source": [
    "myvar.iloc[4]"
   ]
  },
  {
   "cell_type": "code",
   "execution_count": 15,
   "id": "d7062e85-fe69-4f67-ab74-5b1118398c3a",
   "metadata": {},
   "outputs": [
    {
     "data": {
      "text/plain": [
       "Tid                    1\n",
       "Refund               Yes\n",
       "Marital Status    Single\n",
       "Taxable Income      125K\n",
       "Cheat                 No\n",
       "Name: 0, dtype: object"
      ]
     },
     "execution_count": 15,
     "metadata": {},
     "output_type": "execute_result"
    }
   ],
   "source": [
    "myvar.iloc[0]"
   ]
  },
  {
   "cell_type": "code",
   "execution_count": 17,
   "id": "2bd50d6d-062b-4c50-b0d4-a1bc0a140bc4",
   "metadata": {},
   "outputs": [
    {
     "data": {
      "text/plain": [
       "Tid                    8\n",
       "Refund                No\n",
       "Marital Status    Single\n",
       "Taxable Income       85K\n",
       "Cheat                Yes\n",
       "Name: 7, dtype: object"
      ]
     },
     "execution_count": 17,
     "metadata": {},
     "output_type": "execute_result"
    }
   ],
   "source": [
    "myvar.iloc[7]"
   ]
  },
  {
   "cell_type": "code",
   "execution_count": 19,
   "id": "a2f0df0c-1885-4c19-9f8e-0206687cc085",
   "metadata": {},
   "outputs": [
    {
     "data": {
      "text/plain": [
       "Tid                     9\n",
       "Refund                 No\n",
       "Marital Status    Married\n",
       "Taxable Income        75K\n",
       "Cheat                  No\n",
       "Name: 8, dtype: object"
      ]
     },
     "execution_count": 19,
     "metadata": {},
     "output_type": "execute_result"
    }
   ],
   "source": [
    "myvar.iloc[8]"
   ]
  },
  {
   "cell_type": "markdown",
   "id": "af5eb428-6ec6-4e40-b163-d9a6fdf11976",
   "metadata": {},
   "source": [
    "<b>Question 3:</b> Navigate the DataFrame and do the following task for the table created in question 1:\n",
    "\n",
    "   <b> 1.</b> Select row from index 3 to 7\n"
   ]
  },
  {
   "cell_type": "code",
   "execution_count": 28,
   "id": "1631c794-1b8c-46a7-bb8d-d31a03227470",
   "metadata": {},
   "outputs": [
    {
     "data": {
      "text/html": [
       "<div>\n",
       "<style scoped>\n",
       "    .dataframe tbody tr th:only-of-type {\n",
       "        vertical-align: middle;\n",
       "    }\n",
       "\n",
       "    .dataframe tbody tr th {\n",
       "        vertical-align: top;\n",
       "    }\n",
       "\n",
       "    .dataframe thead th {\n",
       "        text-align: right;\n",
       "    }\n",
       "</style>\n",
       "<table border=\"1\" class=\"dataframe\">\n",
       "  <thead>\n",
       "    <tr style=\"text-align: right;\">\n",
       "      <th></th>\n",
       "      <th>Tid</th>\n",
       "      <th>Refund</th>\n",
       "      <th>Marital Status</th>\n",
       "      <th>Taxable Income</th>\n",
       "      <th>Cheat</th>\n",
       "    </tr>\n",
       "  </thead>\n",
       "  <tbody>\n",
       "    <tr>\n",
       "      <th>3</th>\n",
       "      <td>4</td>\n",
       "      <td>Yes</td>\n",
       "      <td>Married</td>\n",
       "      <td>120K</td>\n",
       "      <td>No</td>\n",
       "    </tr>\n",
       "    <tr>\n",
       "      <th>4</th>\n",
       "      <td>5</td>\n",
       "      <td>No</td>\n",
       "      <td>Divorced</td>\n",
       "      <td>95K</td>\n",
       "      <td>Yes</td>\n",
       "    </tr>\n",
       "    <tr>\n",
       "      <th>5</th>\n",
       "      <td>6</td>\n",
       "      <td>No</td>\n",
       "      <td>Married</td>\n",
       "      <td>60K</td>\n",
       "      <td>No</td>\n",
       "    </tr>\n",
       "    <tr>\n",
       "      <th>6</th>\n",
       "      <td>7</td>\n",
       "      <td>Yes</td>\n",
       "      <td>Divorced</td>\n",
       "      <td>220K</td>\n",
       "      <td>No</td>\n",
       "    </tr>\n",
       "    <tr>\n",
       "      <th>7</th>\n",
       "      <td>8</td>\n",
       "      <td>No</td>\n",
       "      <td>Single</td>\n",
       "      <td>85K</td>\n",
       "      <td>Yes</td>\n",
       "    </tr>\n",
       "  </tbody>\n",
       "</table>\n",
       "</div>"
      ],
      "text/plain": [
       "   Tid Refund Marital Status Taxable Income Cheat\n",
       "3    4    Yes        Married           120K    No\n",
       "4    5     No       Divorced            95K   Yes\n",
       "5    6     No        Married            60K    No\n",
       "6    7    Yes       Divorced           220K    No\n",
       "7    8     No         Single            85K   Yes"
      ]
     },
     "execution_count": 28,
     "metadata": {},
     "output_type": "execute_result"
    }
   ],
   "source": [
    "myvar.iloc[3:8]"
   ]
  },
  {
   "cell_type": "markdown",
   "id": "7484e175-96e1-4e2d-9d03-59633c771276",
   "metadata": {},
   "source": [
    "<b>2.</b> Select row from index 4 to 8, and column 2 to 4"
   ]
  },
  {
   "cell_type": "code",
   "execution_count": 32,
   "id": "a625cf04-f0ca-48a0-9adf-278bdd60b7cf",
   "metadata": {},
   "outputs": [
    {
     "data": {
      "text/html": [
       "<div>\n",
       "<style scoped>\n",
       "    .dataframe tbody tr th:only-of-type {\n",
       "        vertical-align: middle;\n",
       "    }\n",
       "\n",
       "    .dataframe tbody tr th {\n",
       "        vertical-align: top;\n",
       "    }\n",
       "\n",
       "    .dataframe thead th {\n",
       "        text-align: right;\n",
       "    }\n",
       "</style>\n",
       "<table border=\"1\" class=\"dataframe\">\n",
       "  <thead>\n",
       "    <tr style=\"text-align: right;\">\n",
       "      <th></th>\n",
       "      <th>Marital Status</th>\n",
       "      <th>Taxable Income</th>\n",
       "      <th>Cheat</th>\n",
       "    </tr>\n",
       "  </thead>\n",
       "  <tbody>\n",
       "    <tr>\n",
       "      <th>4</th>\n",
       "      <td>Divorced</td>\n",
       "      <td>95K</td>\n",
       "      <td>Yes</td>\n",
       "    </tr>\n",
       "    <tr>\n",
       "      <th>5</th>\n",
       "      <td>Married</td>\n",
       "      <td>60K</td>\n",
       "      <td>No</td>\n",
       "    </tr>\n",
       "    <tr>\n",
       "      <th>6</th>\n",
       "      <td>Divorced</td>\n",
       "      <td>220K</td>\n",
       "      <td>No</td>\n",
       "    </tr>\n",
       "    <tr>\n",
       "      <th>7</th>\n",
       "      <td>Single</td>\n",
       "      <td>85K</td>\n",
       "      <td>Yes</td>\n",
       "    </tr>\n",
       "    <tr>\n",
       "      <th>8</th>\n",
       "      <td>Married</td>\n",
       "      <td>75K</td>\n",
       "      <td>No</td>\n",
       "    </tr>\n",
       "  </tbody>\n",
       "</table>\n",
       "</div>"
      ],
      "text/plain": [
       "  Marital Status Taxable Income Cheat\n",
       "4       Divorced            95K   Yes\n",
       "5        Married            60K    No\n",
       "6       Divorced           220K    No\n",
       "7         Single            85K   Yes\n",
       "8        Married            75K    No"
      ]
     },
     "execution_count": 32,
     "metadata": {},
     "output_type": "execute_result"
    }
   ],
   "source": [
    "myvar.iloc[4:9,2:5]"
   ]
  },
  {
   "cell_type": "markdown",
   "id": "bb966358-447a-45db-b6e3-4aa8b2b51758",
   "metadata": {},
   "source": [
    "<b>3. </b>Select all rows with column index 1 to 3 (include index 3 during selection)"
   ]
  },
  {
   "cell_type": "code",
   "execution_count": 39,
   "id": "6ddf10c9-d0e2-43bf-95a4-cfe507037e61",
   "metadata": {},
   "outputs": [
    {
     "data": {
      "text/html": [
       "<div>\n",
       "<style scoped>\n",
       "    .dataframe tbody tr th:only-of-type {\n",
       "        vertical-align: middle;\n",
       "    }\n",
       "\n",
       "    .dataframe tbody tr th {\n",
       "        vertical-align: top;\n",
       "    }\n",
       "\n",
       "    .dataframe thead th {\n",
       "        text-align: right;\n",
       "    }\n",
       "</style>\n",
       "<table border=\"1\" class=\"dataframe\">\n",
       "  <thead>\n",
       "    <tr style=\"text-align: right;\">\n",
       "      <th></th>\n",
       "      <th>Refund</th>\n",
       "      <th>Marital Status</th>\n",
       "      <th>Taxable Income</th>\n",
       "    </tr>\n",
       "  </thead>\n",
       "  <tbody>\n",
       "    <tr>\n",
       "      <th>0</th>\n",
       "      <td>Yes</td>\n",
       "      <td>Single</td>\n",
       "      <td>125K</td>\n",
       "    </tr>\n",
       "    <tr>\n",
       "      <th>1</th>\n",
       "      <td>No</td>\n",
       "      <td>Married</td>\n",
       "      <td>100K</td>\n",
       "    </tr>\n",
       "    <tr>\n",
       "      <th>2</th>\n",
       "      <td>No</td>\n",
       "      <td>Single</td>\n",
       "      <td>70K</td>\n",
       "    </tr>\n",
       "    <tr>\n",
       "      <th>3</th>\n",
       "      <td>Yes</td>\n",
       "      <td>Married</td>\n",
       "      <td>120K</td>\n",
       "    </tr>\n",
       "    <tr>\n",
       "      <th>4</th>\n",
       "      <td>No</td>\n",
       "      <td>Divorced</td>\n",
       "      <td>95K</td>\n",
       "    </tr>\n",
       "    <tr>\n",
       "      <th>5</th>\n",
       "      <td>No</td>\n",
       "      <td>Married</td>\n",
       "      <td>60K</td>\n",
       "    </tr>\n",
       "    <tr>\n",
       "      <th>6</th>\n",
       "      <td>Yes</td>\n",
       "      <td>Divorced</td>\n",
       "      <td>220K</td>\n",
       "    </tr>\n",
       "    <tr>\n",
       "      <th>7</th>\n",
       "      <td>No</td>\n",
       "      <td>Single</td>\n",
       "      <td>85K</td>\n",
       "    </tr>\n",
       "    <tr>\n",
       "      <th>8</th>\n",
       "      <td>No</td>\n",
       "      <td>Married</td>\n",
       "      <td>75K</td>\n",
       "    </tr>\n",
       "    <tr>\n",
       "      <th>9</th>\n",
       "      <td>No</td>\n",
       "      <td>Single</td>\n",
       "      <td>90K</td>\n",
       "    </tr>\n",
       "  </tbody>\n",
       "</table>\n",
       "</div>"
      ],
      "text/plain": [
       "  Refund Marital Status Taxable Income\n",
       "0    Yes         Single           125K\n",
       "1     No        Married           100K\n",
       "2     No         Single            70K\n",
       "3    Yes        Married           120K\n",
       "4     No       Divorced            95K\n",
       "5     No        Married            60K\n",
       "6    Yes       Divorced           220K\n",
       "7     No         Single            85K\n",
       "8     No        Married            75K\n",
       "9     No         Single            90K"
      ]
     },
     "execution_count": 39,
     "metadata": {},
     "output_type": "execute_result"
    }
   ],
   "source": [
    "myvar.iloc[0:10,1:4]"
   ]
  },
  {
   "cell_type": "markdown",
   "id": "5d1c3a92-9b5c-4054-be65-c001df11d61f",
   "metadata": {},
   "source": [
    "<b>Question 4:</b> Read a csv file and display its first five rows"
   ]
  },
  {
   "cell_type": "code",
   "execution_count": 15,
   "id": "efe9aca9-7ba6-4d54-9f56-e8b815c26be4",
   "metadata": {},
   "outputs": [
    {
     "name": "stdout",
     "output_type": "stream",
     "text": [
      "C:\\Users\\Adminn\n",
      "['.anaconda', '.android', '.arduinoIDE', '.conda', '.condarc', '.continuum', '.gradle', '.ipynb_checkpoints', '.ipython', '.jupyter', '.matplotlib', '.ms-ad', '.VirtualBox', '.virtual_documents', '.vscode', 'anaconda_projects', 'AndroidStudioProjects', 'AppData', 'Application Data', 'Ass1(102317183).ipynb', 'Ass1(AI).ipynb', 'Ass2.ipynb', 'Ass3.ipynb', 'Cookies', 'Desktop', 'Iris.csv', 'Local Settings', 'My Documents', 'NetHood', 'NTUSER.DAT', 'ntuser.dat.LOG1', 'ntuser.dat.LOG2', 'NTUSER.DAT{ae53e7c1-d0f7-11ee-9677-ef2edcae82d4}.TM.blf', 'NTUSER.DAT{ae53e7c1-d0f7-11ee-9677-ef2edcae82d4}.TMContainer00000000000000000001.regtrans-ms', 'NTUSER.DAT{ae53e7c1-d0f7-11ee-9677-ef2edcae82d4}.TMContainer00000000000000000002.regtrans-ms', 'ntuser.ini', 'OneDrive', 'PrintHood', 'Recent', 'SendTo', 'Start Menu', 'Templates', 'Untitled1.ipynb', 'VirtualBox VMs']\n"
     ]
    }
   ],
   "source": [
    "import os\n",
    "print(os.getcwd())  # Print the current working directory\n",
    "print(os.listdir()) # List all files in the directory"
   ]
  },
  {
   "cell_type": "code",
   "execution_count": 13,
   "id": "1f387910-d0fa-4540-aaf3-5c9422bd9c77",
   "metadata": {},
   "outputs": [
    {
     "name": "stdout",
     "output_type": "stream",
     "text": [
      "   Id  SepalLengthCm  SepalWidthCm  PetalLengthCm  PetalWidthCm      Species\n",
      "0   1            5.1           3.5            1.4           0.2  Iris-setosa\n",
      "1   2            4.9           3.0            1.4           0.2  Iris-setosa\n",
      "2   3            4.7           3.2            1.3           0.2  Iris-setosa\n",
      "3   4            4.6           3.1            1.5           0.2  Iris-setosa\n",
      "4   5            5.0           3.6            1.4           0.2  Iris-setosa\n"
     ]
    }
   ],
   "source": [
    "import pandas as pd\n",
    "df = pd.read_csv(\"Iris.csv\")\n",
    "print(df.iloc[:5])"
   ]
  },
  {
   "cell_type": "markdown",
   "id": "16b11339-493b-4bb0-89cb-872167a9e3fc",
   "metadata": {},
   "source": [
    "<b>Question 5:</b> From the csv file (uploaded in the Q.4) delete row 4, and delete column 3. Display the \n",
    "result."
   ]
  },
  {
   "cell_type": "code",
   "execution_count": 3,
   "id": "41b503fc-8ac8-4265-bc5f-9eaf1fe8e8e3",
   "metadata": {},
   "outputs": [
    {
     "name": "stdout",
     "output_type": "stream",
     "text": [
      "      Id  SepalLengthCm  SepalWidthCm  PetalWidthCm         Species\n",
      "0      1            5.1           3.5           0.2     Iris-setosa\n",
      "1      2            4.9           3.0           0.2     Iris-setosa\n",
      "2      3            4.7           3.2           0.2     Iris-setosa\n",
      "3      4            4.6           3.1           0.2     Iris-setosa\n",
      "5      6            5.4           3.9           0.4     Iris-setosa\n",
      "..   ...            ...           ...           ...             ...\n",
      "145  146            6.7           3.0           2.3  Iris-virginica\n",
      "146  147            6.3           2.5           1.9  Iris-virginica\n",
      "147  148            6.5           3.0           2.0  Iris-virginica\n",
      "148  149            6.2           3.4           2.3  Iris-virginica\n",
      "149  150            5.9           3.0           1.8  Iris-virginica\n",
      "\n",
      "[149 rows x 5 columns]\n"
     ]
    }
   ],
   "source": [
    "import pandas as pd\n",
    "df=pd.read_csv(\"Iris.csv\")\n",
    "df=df.drop(index=4)\n",
    "df=df.drop(columns=\"PetalLengthCm\")\n",
    "print(df)"
   ]
  },
  {
   "cell_type": "markdown",
   "id": "cd3c276d-88ad-48a7-ba4f-42198137967f",
   "metadata": {},
   "source": [
    "<b>Question 6: </b>Create a sample dataset (employees.csv) containing information about employees in \n",
    "a company.\n"
   ]
  },
  {
   "cell_type": "code",
   "execution_count": 5,
   "id": "c5d22d42-e37e-49a4-8a92-b3e3662eefd6",
   "metadata": {},
   "outputs": [],
   "source": [
    "import pandas as pd\n",
    "data = {\n",
    "    \"Employee ID\":[101,102,103,104,105],\n",
    "    \"Name\":[\"Alice\",\"Bob\",\"Charlie\",\"Diana\",\"Edward\"],\n",
    "    \"Department\":[\"HR\",\"IT\",\"IT\",\"MARKETING\",\"SALES\"],\n",
    "    \"Age\":[29,34,41,28,38],\n",
    "    \"Salary\":[50000,70000,65000,55000,60000],\n",
    "    \"Years_of_Experience\": [4, 8, 10, 3, 12],\n",
    "    \"Joining_Date\": [\"2020-03-15\", \"2017-07-19\", \"2013-06-01\", \"2021-02-10\", \"2010-11-25\"],\n",
    "    \"Gender\": [\"Female\", \"Male\", \"Male\", \"Female\", \"Male\"],\n",
    "    \"Bonus\": [5000, 7000, 6000, 4500, 5000],\n",
    "    \"Rating\": [4.5, 4.0, 3.8, 4.7, 3.5],\n",
    "}\n",
    "df=pd.DataFrame(data)\n",
    "df.to_csv(\"employees.csv\")\n",
    "    "
   ]
  },
  {
   "cell_type": "markdown",
   "id": "361bf82d-3ce7-4f7b-a06b-b6a664100f35",
   "metadata": {},
   "source": [
    "<b>a)</b> Shape (number of rows and columns) of the DataFrame."
   ]
  },
  {
   "cell_type": "code",
   "execution_count": 7,
   "id": "290c5d46-6c6e-420c-bba5-bd9327bd22a4",
   "metadata": {},
   "outputs": [
    {
     "name": "stdout",
     "output_type": "stream",
     "text": [
      "Displaying Shape of the DataFrame\n",
      "(5, 10)\n"
     ]
    }
   ],
   "source": [
    "print(\"Displaying Shape of the DataFrame\")\n",
    "print(df.shape)"
   ]
  },
  {
   "cell_type": "markdown",
   "id": "356e943c-a33a-4afb-84dc-d36357e3a383",
   "metadata": {},
   "source": [
    "<b>b)</b> Summary of the DataFrame that includes the data types and non-null counts for \n",
    "each column."
   ]
  },
  {
   "cell_type": "code",
   "execution_count": 9,
   "id": "bff64248-f11f-4d33-8a31-01b4b92dfd90",
   "metadata": {},
   "outputs": [
    {
     "name": "stdout",
     "output_type": "stream",
     "text": [
      "\n",
      "Displaying Summary of the DataFrame:\n",
      "Employee ID              int64\n",
      "Name                    object\n",
      "Department              object\n",
      "Age                      int64\n",
      "Salary                   int64\n",
      "Years_of_Experience      int64\n",
      "Joining_Date            object\n",
      "Gender                  object\n",
      "Bonus                    int64\n",
      "Rating                 float64\n",
      "dtype: object\n"
     ]
    }
   ],
   "source": [
    "print(\"\\nDisplaying Summary of the DataFrame:\")\n",
    "print(df.dtypes)"
   ]
  },
  {
   "cell_type": "markdown",
   "id": "aac85dd3-aaa6-461b-8f70-811054a8aa7e",
   "metadata": {},
   "source": [
    "<b>c)</b> Generate descriptive statistics."
   ]
  },
  {
   "cell_type": "code",
   "execution_count": 11,
   "id": "bc4b92cd-166c-4f3f-b882-111c0f3a6126",
   "metadata": {},
   "outputs": [
    {
     "name": "stdout",
     "output_type": "stream",
     "text": [
      "\n",
      "Dispalying general descriptive statistics\n",
      "       Employee ID        Age       Salary  Years_of_Experience   Bonus  \\\n",
      "count     5.000000   5.000000      5.00000             5.000000     5.0   \n",
      "mean    103.000000  34.000000  60000.00000             7.400000  5500.0   \n",
      "std       1.581139   5.612486   7905.69415             3.847077  1000.0   \n",
      "min     101.000000  28.000000  50000.00000             3.000000  4500.0   \n",
      "25%     102.000000  29.000000  55000.00000             4.000000  5000.0   \n",
      "50%     103.000000  34.000000  60000.00000             8.000000  5000.0   \n",
      "75%     104.000000  38.000000  65000.00000            10.000000  6000.0   \n",
      "max     105.000000  41.000000  70000.00000            12.000000  7000.0   \n",
      "\n",
      "         Rating  \n",
      "count  5.000000  \n",
      "mean   4.100000  \n",
      "std    0.494975  \n",
      "min    3.500000  \n",
      "25%    3.800000  \n",
      "50%    4.000000  \n",
      "75%    4.500000  \n",
      "max    4.700000  \n"
     ]
    }
   ],
   "source": [
    "print(\"\\nDispalying general descriptive statistics\")\n",
    "print(df.describe())"
   ]
  },
  {
   "cell_type": "markdown",
   "id": "e4d7f91c-9dc1-401f-8cf6-75e2a166c016",
   "metadata": {},
   "source": [
    "<b>d)</b> Display the first 5 rows and last 3 rows of the dataset. \n"
   ]
  },
  {
   "cell_type": "code",
   "execution_count": 19,
   "id": "1f883ff3-a853-4869-abd3-e29057d7cf77",
   "metadata": {},
   "outputs": [
    {
     "name": "stdout",
     "output_type": "stream",
     "text": [
      "\n",
      " Displaying First 5 and last 3 rows:\n",
      "   Employee ID     Name Department  Age  Salary  Years_of_Experience  \\\n",
      "0          101    Alice         HR   29   50000                    4   \n",
      "1          102      Bob         IT   34   70000                    8   \n",
      "2          103  Charlie         IT   41   65000                   10   \n",
      "3          104    Diana  MARKETING   28   55000                    3   \n",
      "4          105   Edward      SALES   38   60000                   12   \n",
      "\n",
      "  Joining_Date  Gender  Bonus  Rating  \n",
      "0   2020-03-15  Female   5000     4.5  \n",
      "1   2017-07-19    Male   7000     4.0  \n",
      "2   2013-06-01    Male   6000     3.8  \n",
      "3   2021-02-10  Female   4500     4.7  \n",
      "4   2010-11-25    Male   5000     3.5  \n",
      "   Employee ID     Name Department  Age  Salary  Years_of_Experience  \\\n",
      "2          103  Charlie         IT   41   65000                   10   \n",
      "3          104    Diana  MARKETING   28   55000                    3   \n",
      "4          105   Edward      SALES   38   60000                   12   \n",
      "\n",
      "  Joining_Date  Gender  Bonus  Rating  \n",
      "2   2013-06-01    Male   6000     3.8  \n",
      "3   2021-02-10  Female   4500     4.7  \n",
      "4   2010-11-25    Male   5000     3.5  \n"
     ]
    }
   ],
   "source": [
    "print(\"\\n Displaying First 5 and last 3 rows:\")\n",
    "print(df.head(5))\n",
    "print(df.tail(3))"
   ]
  },
  {
   "cell_type": "markdown",
   "id": "1c54574f-606c-4d76-b58d-fbda103a1d5b",
   "metadata": {},
   "source": [
    "<b>e)</b> Calculate the following statistics from the dataset: <br>\n",
    "    <b>i.</b> The average salary of employees.   \n",
    "     \n",
    "\n",
    "     "
   ]
  },
  {
   "cell_type": "code",
   "execution_count": 36,
   "id": "7fa0d2d0-cf2c-402b-8876-828d6043814c",
   "metadata": {},
   "outputs": [
    {
     "name": "stdout",
     "output_type": "stream",
     "text": [
      "\n",
      "Displaying Average Salary of the Employees:\n",
      "60000.0\n"
     ]
    }
   ],
   "source": [
    "print(\"\\nDisplaying Average Salary of the Employees:\")\n",
    "print(df[\"Salary\"].mean())"
   ]
  },
  {
   "cell_type": "markdown",
   "id": "b1d136b3-8ccb-4bb1-ab55-1e6951e3eb09",
   "metadata": {},
   "source": [
    "<b>ii.</b> The total bonus paid to all employees.<br>"
   ]
  },
  {
   "cell_type": "code",
   "execution_count": 40,
   "id": "8a05e928-be5a-41bf-868b-90616d085ea1",
   "metadata": {},
   "outputs": [
    {
     "name": "stdout",
     "output_type": "stream",
     "text": [
      "\n",
      "Displaying total bonus:\n",
      "27500\n"
     ]
    }
   ],
   "source": [
    "print(\"\\nDisplaying total bonus:\")\n",
    "print(df[\"Bonus\"].sum())"
   ]
  },
  {
   "cell_type": "markdown",
   "id": "b764a5b6-ffbe-4e48-8ab1-88ef832258e7",
   "metadata": {},
   "source": [
    "<b>iii.</b> The youngest employee's age."
   ]
  },
  {
   "cell_type": "code",
   "execution_count": 50,
   "id": "6d1c1ba2-c086-4c15-bae8-4c683a8bde0a",
   "metadata": {},
   "outputs": [
    {
     "name": "stdout",
     "output_type": "stream",
     "text": [
      "\n",
      " Displaying Youngest Employees Age:\n",
      "28\n"
     ]
    }
   ],
   "source": [
    "print(\"\\n Displaying Youngest Employees Age:\")\n",
    "youngest_age=df[\"Age\"].min()\n",
    "print(youngest_age)"
   ]
  },
  {
   "cell_type": "markdown",
   "id": "76048544-feb3-4a9b-bdc1-e5451145f45d",
   "metadata": {},
   "source": [
    "<b>iv.</b> The highest performance rating."
   ]
  },
  {
   "cell_type": "code",
   "execution_count": 54,
   "id": "7c392127-00c7-4e07-a381-49de7360977e",
   "metadata": {},
   "outputs": [
    {
     "name": "stdout",
     "output_type": "stream",
     "text": [
      "\n",
      "Displaying Highest performance rating:\n",
      "4.7\n"
     ]
    }
   ],
   "source": [
    "print(\"\\nDisplaying Highest performance rating:\")\n",
    "hp_rating=df[\"Rating\"].max()\n",
    "print(hp_rating)"
   ]
  },
  {
   "cell_type": "markdown",
   "id": "a91baef3-54e6-4b0e-87ad-ca374a768668",
   "metadata": {},
   "source": [
    "<b>f)</b> Sort the DataFrame by the Salary column in descending order."
   ]
  },
  {
   "cell_type": "code",
   "execution_count": 57,
   "id": "df7eddc2-201d-448d-be55-26f2a1ad6976",
   "metadata": {},
   "outputs": [
    {
     "name": "stdout",
     "output_type": "stream",
     "text": [
      "\n",
      "    Employee ID     Name Department  Age  Salary  Years_of_Experience  \\\n",
      "1          102      Bob         IT   34   70000                    8   \n",
      "2          103  Charlie         IT   41   65000                   10   \n",
      "4          105   Edward      SALES   38   60000                   12   \n",
      "3          104    Diana  MARKETING   28   55000                    3   \n",
      "0          101    Alice         HR   29   50000                    4   \n",
      "\n",
      "  Joining_Date  Gender  Bonus  Rating  \n",
      "1   2017-07-19    Male   7000     4.0  \n",
      "2   2013-06-01    Male   6000     3.8  \n",
      "4   2010-11-25    Male   5000     3.5  \n",
      "3   2021-02-10  Female   4500     4.7  \n",
      "0   2020-03-15  Female   5000     4.5  \n"
     ]
    }
   ],
   "source": [
    "sorted_df=df.sort_values(by=\"Salary\",ascending=False)\n",
    "print(\"\\n\",sorted_df)"
   ]
  },
  {
   "cell_type": "markdown",
   "id": "0709a675-9ba1-4a1b-af09-ff500cfb7c0d",
   "metadata": {},
   "source": [
    "<b>g)</b> Add a new column that categorizes employees based on their performance rating: <br>\n",
    "        <b>i.</b> Excellent for ratings >= 4.5 <br>\n",
    "        <b>ii.</b> Good for ratings >= 4.0 but < 4.5 <br>\n",
    "        <b>iii.</b> Average for ratings < 4.0 \n"
   ]
  },
  {
   "cell_type": "code",
   "execution_count": 13,
   "id": "ce81ad5a-7018-44da-97c2-ee49ee7cf2d9",
   "metadata": {},
   "outputs": [
    {
     "name": "stdout",
     "output_type": "stream",
     "text": [
      "\n",
      "\n",
      "      Name Performance Category\n",
      "0    Alice                 Good\n",
      "1      Bob              Average\n",
      "2  Charlie              Average\n",
      "3    Diana            Excellent\n",
      "4   Edward              Average\n"
     ]
    }
   ],
   "source": [
    "df[\"Performance Category\"]=pd.cut(df[\"Rating\"],bins=[0,4.0,4.5,5.0],labels=[\"Average\",\"Good\",\"Excellent\"])\n",
    "print(\"\\n\")\n",
    "print(df[[\"Name\",\"Performance Category\"]])"
   ]
  },
  {
   "cell_type": "markdown",
   "id": "a3cd082e-6397-455f-96b7-056ff99514bb",
   "metadata": {},
   "source": [
    "<b>h)</b> Identify missing values in the DataFrame."
   ]
  },
  {
   "cell_type": "code",
   "execution_count": 15,
   "id": "866af620-60cd-422e-ad22-fb0a42e86555",
   "metadata": {},
   "outputs": [
    {
     "name": "stdout",
     "output_type": "stream",
     "text": [
      "\n",
      "Checking for missing values in the DataFrame:\n",
      "Employee ID             0\n",
      "Name                    0\n",
      "Department              0\n",
      "Age                     0\n",
      "Salary                  0\n",
      "Years_of_Experience     0\n",
      "Joining_Date            0\n",
      "Gender                  0\n",
      "Bonus                   0\n",
      "Rating                  0\n",
      "Performance Category    0\n",
      "dtype: int64\n"
     ]
    }
   ],
   "source": [
    "print(\"\\nChecking for missing values in the DataFrame:\")\n",
    "print(df.isnull().sum())"
   ]
  },
  {
   "cell_type": "markdown",
   "id": "a8d62fc7-a904-4fc0-876f-ba8a6c11d6ab",
   "metadata": {},
   "source": [
    "<b>i) </b>Rename the Employee_ID column to ID."
   ]
  },
  {
   "cell_type": "code",
   "execution_count": 18,
   "id": "20ebdd27-289a-4c72-877a-f907e0c3b485",
   "metadata": {},
   "outputs": [
    {
     "name": "stdout",
     "output_type": "stream",
     "text": [
      "\n",
      "DataFrame with renamed column:\n",
      "   Employee ID     Name Department  Age  Salary  Years_of_Experience  \\\n",
      "0          101    Alice         HR   29   50000                    4   \n",
      "1          102      Bob         IT   34   70000                    8   \n",
      "2          103  Charlie         IT   41   65000                   10   \n",
      "3          104    Diana  MARKETING   28   55000                    3   \n",
      "4          105   Edward      SALES   38   60000                   12   \n",
      "\n",
      "  Joining_Date  Gender  Bonus  Rating Performance Category  \n",
      "0   2020-03-15  Female   5000     4.5                 Good  \n",
      "1   2017-07-19    Male   7000     4.0              Average  \n",
      "2   2013-06-01    Male   6000     3.8              Average  \n",
      "3   2021-02-10  Female   4500     4.7            Excellent  \n",
      "4   2010-11-25    Male   5000     3.5              Average  \n"
     ]
    }
   ],
   "source": [
    "df.rename(columns={\"Employee_ID\": \"ID\"}, inplace=True)\n",
    "print(\"\\nDataFrame with renamed column:\")\n",
    "print(df)"
   ]
  },
  {
   "cell_type": "markdown",
   "id": "89b397e2-269e-4877-b4fa-bf2a8fa43b0c",
   "metadata": {},
   "source": [
    "<b>j) </b>Find all employees who: <br>\n",
    "<b>i.</b> Have more than 5 years of experience. "
   ]
  },
  {
   "cell_type": "code",
   "execution_count": 21,
   "id": "7077b314-b49e-459f-8774-26f508600e6a",
   "metadata": {},
   "outputs": [
    {
     "name": "stdout",
     "output_type": "stream",
     "text": [
      "\n",
      "Employees with more than 5 years of experience:\n",
      "   Employee ID     Name Department  Age  Salary  Years_of_Experience  \\\n",
      "1          102      Bob         IT   34   70000                    8   \n",
      "2          103  Charlie         IT   41   65000                   10   \n",
      "4          105   Edward      SALES   38   60000                   12   \n",
      "\n",
      "  Joining_Date Gender  Bonus  Rating Performance Category  \n",
      "1   2017-07-19   Male   7000     4.0              Average  \n",
      "2   2013-06-01   Male   6000     3.8              Average  \n",
      "4   2010-11-25   Male   5000     3.5              Average  \n"
     ]
    }
   ],
   "source": [
    "Greater_5_years=df[df[\"Years_of_Experience\"]>5]\n",
    "print(\"\\nEmployees with more than 5 years of experience:\")\n",
    "print(Greater_5_years)"
   ]
  },
  {
   "cell_type": "markdown",
   "id": "2f9b751e-bce6-4b5c-84e9-87bf3c47a7b7",
   "metadata": {},
   "source": [
    "<b>ii.</b> Belong to the IT department. "
   ]
  },
  {
   "cell_type": "code",
   "execution_count": 24,
   "id": "8dec8937-3966-43cf-b6e5-36fc00c6306c",
   "metadata": {},
   "outputs": [
    {
     "name": "stdout",
     "output_type": "stream",
     "text": [
      "\n",
      "Employees in IT department:\n",
      "   Employee ID     Name Department  Age  Salary  Years_of_Experience  \\\n",
      "1          102      Bob         IT   34   70000                    8   \n",
      "2          103  Charlie         IT   41   65000                   10   \n",
      "\n",
      "  Joining_Date Gender  Bonus  Rating Performance Category  \n",
      "1   2017-07-19   Male   7000     4.0              Average  \n",
      "2   2013-06-01   Male   6000     3.8              Average  \n"
     ]
    }
   ],
   "source": [
    "IT_Department=df[df[\"Department\"]==\"IT\"]\n",
    "print(\"\\nEmployees in IT department:\")\n",
    "print(IT_Department)"
   ]
  },
  {
   "cell_type": "markdown",
   "id": "4b2ddb89-0f6d-4aee-b3a6-43ba2b07f470",
   "metadata": {},
   "source": [
    "<b>k) </b>Modify the dataset by adding a new column, Tax, which deducts 10% of the \n",
    "Salary. "
   ]
  },
  {
   "cell_type": "code",
   "execution_count": 27,
   "id": "1c0d8e22-47f4-4b96-bbe8-34c985f2e167",
   "metadata": {},
   "outputs": [
    {
     "name": "stdout",
     "output_type": "stream",
     "text": [
      "\n",
      "DataFrame with Tax column:\n",
      "   Employee ID     Name Department  Age  Salary  Years_of_Experience  \\\n",
      "0          101    Alice         HR   29   50000                    4   \n",
      "1          102      Bob         IT   34   70000                    8   \n",
      "2          103  Charlie         IT   41   65000                   10   \n",
      "3          104    Diana  MARKETING   28   55000                    3   \n",
      "4          105   Edward      SALES   38   60000                   12   \n",
      "\n",
      "  Joining_Date  Gender  Bonus  Rating Performance Category     Tax  \n",
      "0   2020-03-15  Female   5000     4.5                 Good  5000.0  \n",
      "1   2017-07-19    Male   7000     4.0              Average  7000.0  \n",
      "2   2013-06-01    Male   6000     3.8              Average  6500.0  \n",
      "3   2021-02-10  Female   4500     4.7            Excellent  5500.0  \n",
      "4   2010-11-25    Male   5000     3.5              Average  6000.0  \n"
     ]
    }
   ],
   "source": [
    "df['Tax'] = df['Salary'] * 0.10\n",
    "print(\"\\nDataFrame with Tax column:\")\n",
    "print(df)"
   ]
  },
  {
   "cell_type": "markdown",
   "id": "91f51da0-3739-47cb-a9b9-2b79c3fd9d8d",
   "metadata": {},
   "source": [
    "<b>l) </b>Save the modified DataFrame (with added columns) to a new CSV file."
   ]
  },
  {
   "cell_type": "code",
   "execution_count": 31,
   "id": "e4b768ee-2f05-4921-9dff-2e700b2e0993",
   "metadata": {},
   "outputs": [
    {
     "name": "stdout",
     "output_type": "stream",
     "text": [
      "\n",
      "Modified DataFrame saved to 'modified_employees.csv'.\n"
     ]
    }
   ],
   "source": [
    "df.to_csv(\"modified_employees.csv\", index=False)\n",
    "print(\"\\nModified DataFrame saved to 'modified_employees.csv'.\")"
   ]
  }
 ],
 "metadata": {
  "kernelspec": {
   "display_name": "Python [conda env:base] *",
   "language": "python",
   "name": "conda-base-py"
  },
  "language_info": {
   "codemirror_mode": {
    "name": "ipython",
    "version": 3
   },
   "file_extension": ".py",
   "mimetype": "text/x-python",
   "name": "python",
   "nbconvert_exporter": "python",
   "pygments_lexer": "ipython3",
   "version": "3.12.7"
  }
 },
 "nbformat": 4,
 "nbformat_minor": 5
}
