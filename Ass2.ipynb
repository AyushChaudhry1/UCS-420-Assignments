{
 "cells": [
  {
   "cell_type": "markdown",
   "id": "a8dcb748-7786-4c06-877e-0530bf99e1c4",
   "metadata": {},
   "source": [
    "# ASSIGNMENT - 2\n",
    "\n",
    "<b>Question 1:</b> Create a List L that is defined as= [10, 20, 30, 40, 50, 60, 70, 80].\n",
    "<br>\n",
    "<br>\n",
    "<b>i)</b> WAP to add 200 and 300 to L."
   ]
  },
  {
   "cell_type": "code",
   "execution_count": 23,
   "id": "c3879ff4-5a5c-4ba3-ab32-c5c2ee5a034b",
   "metadata": {},
   "outputs": [
    {
     "name": "stdout",
     "output_type": "stream",
     "text": [
      "[10, 20, 30, 40, 50, 60, 70, 80, 200, 300]\n"
     ]
    }
   ],
   "source": [
    "L=[10,20,30,40,50,60,70,80]\n",
    "L.append(200)\n",
    "L.append(300)\n",
    "print(L)"
   ]
  },
  {
   "cell_type": "markdown",
   "id": "4119a53c-bd19-41f7-bbc9-2e5f90c5bf9b",
   "metadata": {},
   "source": [
    "<b>ii)</b> WAP to remove 10 and 30 from L."
   ]
  },
  {
   "cell_type": "code",
   "execution_count": 12,
   "id": "56643a22-f5e9-4ac6-a8ce-07488e48e5f7",
   "metadata": {},
   "outputs": [
    {
     "name": "stdout",
     "output_type": "stream",
     "text": [
      "[20, 40, 50, 60, 70, 80, 200, 300]\n"
     ]
    }
   ],
   "source": [
    "L.remove(10)\n",
    "L.remove(30)\n",
    "print(L)"
   ]
  },
  {
   "cell_type": "markdown",
   "id": "a895382e-288b-43d5-bea7-17a4865d599e",
   "metadata": {},
   "source": [
    "<b> iii)</b> WAP to sort L in ascending order."
   ]
  },
  {
   "cell_type": "code",
   "execution_count": 15,
   "id": "f3c24bf6-8190-462e-a55e-17dff329c039",
   "metadata": {},
   "outputs": [
    {
     "name": "stdout",
     "output_type": "stream",
     "text": [
      "[20, 40, 50, 60, 70, 80, 200, 300]\n"
     ]
    }
   ],
   "source": [
    "L.sort()\n",
    "print(L)"
   ]
  },
  {
   "cell_type": "markdown",
   "id": "98b852ce-daa8-430f-ad67-e75c01e50285",
   "metadata": {},
   "source": [
    "<b> iv)</b> WAP to sort L in descending order."
   ]
  },
  {
   "cell_type": "code",
   "execution_count": 18,
   "id": "b85115a3-dbbe-429a-a1e1-7e40b7c581d3",
   "metadata": {},
   "outputs": [
    {
     "name": "stdout",
     "output_type": "stream",
     "text": [
      "[300, 200, 80, 70, 60, 50, 40, 20]\n"
     ]
    }
   ],
   "source": [
    "L.sort(reverse=True)\n",
    "print(L)"
   ]
  },
  {
   "cell_type": "markdown",
   "id": "e0832ee7-d5ff-4a0d-9b94-1fe18e25326b",
   "metadata": {},
   "source": [
    "<b>Question 2:</b> Create a tuple of marks scored as scores = (45, 89.5, 76, 45.4, 89, 92, 58, 45) and perform the following operations using tuple functions:\n",
    "<br>\n",
    "<br>\n",
    "<b>i)</b> Identify the highest score and its index in the tuple."
   ]
  },
  {
   "cell_type": "code",
   "execution_count": 33,
   "id": "93551e81-95cb-4945-8ad2-49bce778c8ea",
   "metadata": {},
   "outputs": [
    {
     "name": "stdout",
     "output_type": "stream",
     "text": [
      "The highest score is: 92\n",
      "The index number of highest score is: 5\n"
     ]
    }
   ],
   "source": [
    "T=(45,89.5,76,45.4,89,92,58,45)\n",
    "x=max(T)\n",
    "print(\"The highest score is:\",x)\n",
    "ind = T.index(x)\n",
    "print(\"The index number of highest score is:\",ind)"
   ]
  },
  {
   "cell_type": "markdown",
   "id": "e8f832af-c72f-4092-9f40-e5fb4baa41c2",
   "metadata": {},
   "source": [
    "<b>ii)</b> Find the lowest score and count how many times it appears. "
   ]
  },
  {
   "cell_type": "code",
   "execution_count": 40,
   "id": "169f90a9-2c71-4b70-a1a9-42586c45ce82",
   "metadata": {},
   "outputs": [
    {
     "name": "stdout",
     "output_type": "stream",
     "text": [
      "The lowest score is: 45\n",
      "No. of times it occured is: 2\n"
     ]
    }
   ],
   "source": [
    "y=min(T)\n",
    "print(\"The lowest score is:\",y)\n",
    "x =T.count(y)\n",
    "print(\"No. of times it occured is:\",x)"
   ]
  },
  {
   "cell_type": "markdown",
   "id": "7f63b062-a041-4ff2-aaaf-519365bfd042",
   "metadata": {},
   "source": [
    "<b> iii)</b> Reverse the tuple and return it as a list."
   ]
  },
  {
   "cell_type": "code",
   "execution_count": 49,
   "id": "4778a804-bddf-46ad-ad22-d68ee76a2776",
   "metadata": {},
   "outputs": [
    {
     "data": {
      "text/plain": [
       "[45, 58, 92, 89, 45.4, 76, 89.5, 45]"
      ]
     },
     "execution_count": 49,
     "metadata": {},
     "output_type": "execute_result"
    }
   ],
   "source": [
    "nT=T[::-1]\n",
    "list(nT)"
   ]
  },
  {
   "cell_type": "markdown",
   "id": "ae911f2b-594d-4e36-abd2-5820a639e1fc",
   "metadata": {},
   "source": [
    "<b>iv)</b> Check if a specific score ‘76’ (input by the user) is present in the tuple and print its first occurrence index, or a message saying it’s not present."
   ]
  },
  {
   "cell_type": "code",
   "execution_count": 54,
   "id": "f0e119e9-a6d8-498a-9115-a70b6d7800d7",
   "metadata": {},
   "outputs": [
    {
     "name": "stdout",
     "output_type": "stream",
     "text": [
      "The index at which 76 is present is: 2\n"
     ]
    }
   ],
   "source": [
    "if 76 in T:\n",
    "   x = (T.index(76))\n",
    "   print(\"The index at which 76 is present is:\",x) \n",
    "else:\n",
    "    print(\"It’s not present\")"
   ]
  },
  {
   "cell_type": "markdown",
   "id": "a8493493-3217-4d82-9142-c1eb16117436",
   "metadata": {},
   "source": [
    "<b>Question 3:</b> WAP to create a list of 100 random numbers between 100 and 900. Count and print \n",
    "the:\n",
    "<br>\n",
    "<br>\n",
    "<b>i)</b> All odd numbers.\n",
    "<br>\n",
    "<b>ii)</b> All even numbers.\n",
    "<br>\n",
    "<b>iii)</b> All prime numbers "
   ]
  },
  {
   "cell_type": "code",
   "execution_count": 64,
   "id": "ed410d3e-f7be-4270-a490-f74040c8a27a",
   "metadata": {},
   "outputs": [
    {
     "name": "stdout",
     "output_type": "stream",
     "text": [
      "[111, 338, 367, 720, 147, 446, 596, 599, 324, 414, 708, 701, 702, 872, 577, 402, 501, 207, 674, 880, 761, 602, 513, 586, 268, 156, 142, 230, 764, 840, 308, 593, 270, 372, 566, 672, 881, 531, 694, 365, 129, 222, 141, 112, 204, 463, 487, 272, 233, 137, 461, 664, 401, 214, 329, 496, 179, 667, 533, 583, 407, 741, 825, 157, 859, 554, 443, 149, 162, 661, 184, 624, 724, 299, 576, 297, 686, 267, 498, 337, 810, 546, 608, 680, 742, 131, 172, 399, 675, 464, 861, 341, 293, 224, 397, 231, 896, 766, 651, 473]\n",
      "\n",
      "\n",
      "All odd numbers are: [111, 367, 147, 599, 701, 577, 501, 207, 761, 513, 593, 881, 531, 365, 129, 141, 463, 487, 233, 137, 461, 401, 329, 179, 667, 533, 583, 407, 741, 825, 157, 859, 443, 149, 661, 299, 297, 267, 337, 131, 399, 675, 861, 341, 293, 397, 231, 651, 473]\n",
      "\n",
      "\n",
      "All even numbers: [338, 720, 446, 596, 324, 414, 708, 702, 872, 402, 674, 880, 602, 586, 268, 156, 142, 230, 764, 840, 308, 270, 372, 566, 672, 694, 222, 112, 204, 272, 664, 214, 496, 554, 162, 184, 624, 724, 576, 686, 498, 810, 546, 608, 680, 742, 172, 464, 224, 896, 766]\n",
      "\n",
      "\n",
      "All prime numbers are: [367, 599, 701, 577, 761, 593, 881, 463, 487, 233, 137, 461, 401, 179, 157, 859, 443, 149, 661, 337, 131, 293, 397]\n"
     ]
    }
   ],
   "source": [
    "import random as r\n",
    "import sympy as s\n",
    "L=r.sample(range(100,900),100)\n",
    "print(L)\n",
    "l1=[x for x in L if not x%2==0]\n",
    "l2=[x for x in L if x%2==0]\n",
    "l3=[x for x in L if s.isprime(x)]\n",
    "print(\"\\n\")\n",
    "print(\"All odd numbers are:\",l1)\n",
    "print(\"\\n\")\n",
    "print(\"All even numbers:\",l2)\n",
    "print(\"\\n\")\n",
    "print(\"All prime numbers are:\",l3)"
   ]
  },
  {
   "cell_type": "markdown",
   "id": "29e30df4-7109-4993-9e90-7a8004e7e6b6",
   "metadata": {},
   "source": [
    "<b>Question 4:</b>\n",
    "Consider the following two sets, A and B, representing scores of two teams in multiple matches. A = {34, 56, 78, 90} and B = {78, 45, 90, 23} WAP to perform the following operations using set functions:\n",
    "\n",
    "<b>i)</b> Find the unique scores achieved by both teams (union of sets).\n",
    "\n",
    "<b>ii)</b> Identify the scores that are common to both teams (intersection of sets).\n",
    "\n",
    "<b>iii)</b> Find the scores that are exclusive to each team (symmetric difference).\n",
    "\n",
    "<b>iv)</b> Check if the scores of team A are a subset of team B, and if team B's scores are a superset of team A.\n",
    "\n",
    "<b>v)</b> Remove a specific score X (input by the user) from set A if it exists. If not, print a message saying it is not present."
   ]
  },
  {
   "cell_type": "code",
   "execution_count": 75,
   "id": "1e3d236e-6fa1-4e57-9ff1-39b44a97b048",
   "metadata": {},
   "outputs": [
    {
     "name": "stdout",
     "output_type": "stream",
     "text": [
      "i) {34, 45, 78, 23, 56, 90}\n",
      "\n",
      "\n",
      "ii) {90, 78}\n",
      "\n",
      "\n",
      "iii) {34, 45, 23, 56}\n",
      "\n",
      "\n"
     ]
    },
    {
     "name": "stdin",
     "output_type": "stream",
     "text": [
      "Enter score to check 67\n"
     ]
    },
    {
     "name": "stdout",
     "output_type": "stream",
     "text": [
      "v) 67.0  is not present in A\n"
     ]
    }
   ],
   "source": [
    "A = {34, 56, 78, 90} \n",
    "B = {78, 45, 90, 23}\n",
    "print(\"i)\",A.union(B))\n",
    "print(\"\\n\")\n",
    "print(\"ii)\",A.intersection(B))\n",
    "print(\"\\n\")\n",
    "print(\"iii)\",A.symmetric_difference(B))\n",
    "print(\"\\n\")\n",
    "if A.issubset(B):\n",
    "    print(\"iv) A is subset of B\")\n",
    "if B.issuperset(A):\n",
    "    print(\"iv) B is superset of A\")\n",
    "n=float(input('Enter score to check'))\n",
    "if n in A:\n",
    "    A.remove(n)\n",
    "    print(A)\n",
    "else:\n",
    "    print(\"v)\",n,' is not present in A')"
   ]
  },
  {
   "cell_type": "markdown",
   "id": "772d9263-7011-4b6c-92ca-3a930d4a2317",
   "metadata": {},
   "source": [
    "<b>Question 5:</b> Write a program to rename a key city to a location in the following dictionary."
   ]
  },
  {
   "cell_type": "code",
   "execution_count": 80,
   "id": "413bb705-edee-4910-87ee-f68d14acb053",
   "metadata": {},
   "outputs": [
    {
     "name": "stdout",
     "output_type": "stream",
     "text": [
      "{'name': 'OsamaBeenLaggin', 'age': 54, 'salary': 10000, 'location': 'New york'}\n"
     ]
    }
   ],
   "source": [
    "D={\n",
    "    \"name\": \"OsamaBeenLaggin\",\n",
    "    \"age\":54,\n",
    "    \"salary\": 10000,\n",
    "    \"city\": \"New york\"\n",
    "}\n",
    "D['location']=D['city']\n",
    "del D['city']\n",
    "print(D)"
   ]
  },
  {
   "cell_type": "code",
   "execution_count": null,
   "id": "92254358-170c-4eab-aceb-d3f7c9bac76f",
   "metadata": {},
   "outputs": [],
   "source": []
  }
 ],
 "metadata": {
  "kernelspec": {
   "display_name": "Python [conda env:base] *",
   "language": "python",
   "name": "conda-base-py"
  },
  "language_info": {
   "codemirror_mode": {
    "name": "ipython",
    "version": 3
   },
   "file_extension": ".py",
   "mimetype": "text/x-python",
   "name": "python",
   "nbconvert_exporter": "python",
   "pygments_lexer": "ipython3",
   "version": "3.12.7"
  }
 },
 "nbformat": 4,
 "nbformat_minor": 5
}
